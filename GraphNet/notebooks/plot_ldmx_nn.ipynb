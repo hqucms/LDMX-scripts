{
 "cells": [
  {
   "cell_type": "code",
   "execution_count": null,
   "metadata": {},
   "outputs": [],
   "source": [
    "import os\n",
    "import glob\n",
    "import numpy as np\n",
    "import awkward"
   ]
  },
  {
   "cell_type": "code",
   "execution_count": null,
   "metadata": {},
   "outputs": [],
   "source": [
    "import matplotlib\n",
    "%matplotlib notebook\n",
    "import matplotlib.pyplot as plt"
   ]
  },
  {
   "cell_type": "code",
   "execution_count": null,
   "metadata": {},
   "outputs": [],
   "source": [
    "# import matplotlib\n",
    "# %matplotlib inline\n",
    "# import matplotlib.pyplot as plt"
   ]
  },
  {
   "cell_type": "code",
   "execution_count": null,
   "metadata": {},
   "outputs": [],
   "source": [
    "from sklearn.metrics import roc_auc_score, roc_curve, auc"
   ]
  },
  {
   "cell_type": "code",
   "execution_count": null,
   "metadata": {},
   "outputs": [],
   "source": [
    "# taken from the training outputs -- update if needed\n",
    "presel_eff = {0: 0.0531643892564612, 1: 0.9818927295320153, 10: 0.9940605634291205, 100: 0.9957324620030694, 1000: 0.9973451587037725}"
   ]
  },
  {
   "cell_type": "code",
   "execution_count": null,
   "metadata": {},
   "outputs": [],
   "source": [
    "sig_filelist = ['OUTPUTDIR/test_sb_OUTPUT.awkd']\n",
    "bkg_filelist = glob.glob('OUTPUTDIR/test_b/*.awkd')\n",
    "# bkg_filelist = []  # uncomment this if you don't have the extra bkg samples"
   ]
  },
  {
   "cell_type": "code",
   "execution_count": null,
   "metadata": {},
   "outputs": [],
   "source": [
    "sig_tables = [awkward.load(f) for f in sig_filelist]\n",
    "bkg_tables = [awkward.load(f) for f in bkg_filelist]"
   ]
  },
  {
   "cell_type": "code",
   "execution_count": null,
   "metadata": {},
   "outputs": [],
   "source": [
    "load_branches = [\n",
    "#     'ecalDigis_recon.id_',\n",
    "#     'ecalDigis_recon.energy_',\n",
    "    'EcalVetoGabriel_recon.nReadoutHits_',\n",
    "    'EcalVetoGabriel_recon.deepestLayerHit_',\n",
    "    'EcalVetoGabriel_recon.summedDet_',\n",
    "    'EcalVetoGabriel_recon.summedTightIso_',\n",
    "    'EcalVetoGabriel_recon.maxCellDep_',\n",
    "    'EcalVetoGabriel_recon.showerRMS_',\n",
    "    'EcalVetoGabriel_recon.xStd_',\n",
    "    'EcalVetoGabriel_recon.yStd_',\n",
    "    'EcalVetoGabriel_recon.avgLayerHit_',\n",
    "    'EcalVetoGabriel_recon.stdLayerHit_',\n",
    "    'EcalVetoGabriel_recon.ecalBackEnergy_',\n",
    "#     'EcalVetoGabriel_recon.electronContainmentEnergy_',\n",
    "#     'EcalVetoGabriel_recon.photonContainmentEnergy_',\n",
    "#     'EcalVetoGabriel_recon.outsideContainmentEnergy_',\n",
    "#     'EcalVetoGabriel_recon.outsideContainmentNHits_',\n",
    "#     'EcalVetoGabriel_recon.outsideContainmentXStd_',\n",
    "#     'EcalVetoGabriel_recon.outsideContainmentYStd_',\n",
    "    'EcalVetoGabriel_recon.discValue_',\n",
    "#     'EcalVetoGabriel_recon.recoilPx_',\n",
    "#     'EcalVetoGabriel_recon.recoilPy_',\n",
    "#     'EcalVetoGabriel_recon.recoilPz_',\n",
    "    'EcalVetoGabriel_recon.recoilX_',\n",
    "    'EcalVetoGabriel_recon.recoilY_',\n",
    "#     'EcalVetoGabriel_recon.ecalLayerEdepReadout_',\n",
    "    'ParticleNet_extra_label',\n",
    "    'ParticleNet_disc',\n",
    "    'TargetSPRecoilE_pt', # use this for plotting: this is the recoil electron pT at TargetSP\n",
    "]"
   ]
  },
  {
   "cell_type": "code",
   "execution_count": null,
   "metadata": {},
   "outputs": [],
   "source": [
    "a = {}\n",
    "for k in load_branches:\n",
    "    arrs = []\n",
    "    for tab in sig_tables + bkg_tables:\n",
    "        arr = tab[k] if k in tab else np.zeros_like(tab['ParticleNet_disc'])\n",
    "        arrs.append(arr)\n",
    "    a[k] = awkward.concatenate(arrs)\n",
    "    if k.startswith('EcalVeto'):\n",
    "        a[k] = a[k].regular()\n",
    "        if a[k].ndim==2 and a[k].shape[1]==1:\n",
    "            a[k] = a[k][:,0]"
   ]
  },
  {
   "cell_type": "code",
   "execution_count": null,
   "metadata": {},
   "outputs": [],
   "source": []
  },
  {
   "cell_type": "code",
   "execution_count": null,
   "metadata": {},
   "outputs": [],
   "source": [
    "for k in a.keys():\n",
    "    print(k, a[k].shape)"
   ]
  },
  {
   "cell_type": "code",
   "execution_count": null,
   "metadata": {},
   "outputs": [],
   "source": [
    "def to_categorical(y, num_classes=None):\n",
    "    \"\"\"Converts a class vector (integers) to binary class matrix.\n",
    "    E.g. for use with categorical_crossentropy.\n",
    "    # Arguments\n",
    "        y: class vector to be converted into a matrix\n",
    "            (integers from 0 to num_classes).\n",
    "        num_classes: total number of classes.\n",
    "    # Returns\n",
    "        A binary matrix representation of the input.\n",
    "    \"\"\"\n",
    "    y = np.array(y, dtype='int').ravel()\n",
    "    if not num_classes:\n",
    "        num_classes = np.max(y) + 1\n",
    "    n = y.shape[0]\n",
    "    categorical = np.zeros((n, num_classes), dtype='int')\n",
    "    categorical[np.arange(n), y] = 1\n",
    "    return categorical\n",
    "\n",
    "\n",
    "def plotROC(y_preds, y_truth, sample_weight=None, output=None, labels=['signal'], sig_eff=1, bkg_eff=1, **kwargs):\n",
    "    from sklearn.metrics import auc, roc_curve, accuracy_score\n",
    "\n",
    "    fpr = dict()\n",
    "    tpr = dict()\n",
    "    thresholds= dict()\n",
    "    roc_auc = dict()\n",
    "    outputs = {}\n",
    "\n",
    "    plt.figure()\n",
    "\n",
    "    for label, pred in zip(labels, y_preds):\n",
    "        fpr[label], tpr[label], thresholds[label] = roc_curve(y_truth, pred, sample_weight=sample_weight)\n",
    "        roc_auc[label] = auc(fpr[label], tpr[label])\n",
    "        fpr[label] *= bkg_eff\n",
    "        tpr[label] *= sig_eff\n",
    "\n",
    "        legend = '%s (auc* = %0.6f)' % (label, roc_auc[label])\n",
    "        print(legend)\n",
    "        eff = get_signal_effs(fpr[label], tpr[label], thresholds[label])\n",
    "        outputs[label] = eff\n",
    "        print(eff)\n",
    "        plt.plot(fpr[label], tpr[label], label=legend)\n",
    "#     plt.plot([0, 1], [1, 0], 'k--')\n",
    "    plt.xlim(kwargs.get('xlim', [0, 1]))\n",
    "    plt.ylim(kwargs.get('ylim', [0, 1]))\n",
    "    plt.xlabel('False positive rate ($\\epsilon_{B}$)')\n",
    "    plt.ylabel('True positive rate ($\\epsilon_{S}$)')\n",
    "#     plt.title('Receiver operating characteristic example')\n",
    "    plt.legend(loc='best')\n",
    "    if kwargs.get('logy', False):\n",
    "        plt.yscale('log')\n",
    "    if kwargs.get('logx', False):\n",
    "        plt.xscale('log')\n",
    "    plt.grid()\n",
    "    if output:\n",
    "        plt.savefig(output)\n",
    "#     return {'fpr':fpr, 'tpr':tpr, 'thresholds':thresholds}\n",
    "    return outputs\n",
    "\n",
    "mistags=[1e-3, 1e-4, 1e-5, 1e-6]\n",
    "def get_signal_effs(fpr, tpr, thresholds, mistags=mistags):\n",
    "    outputs = []\n",
    "    for m in mistags:\n",
    "        idx = next(idx for idx, v in enumerate(fpr) if v > m)\n",
    "        outputs.append((fpr[idx], tpr[idx], thresholds[idx]))\n",
    "    return outputs\n"
   ]
  },
  {
   "cell_type": "code",
   "execution_count": null,
   "metadata": {},
   "outputs": [],
   "source": [
    "test_extra_labels = a['ParticleNet_extra_label']\n",
    "test_labels = test_extra_labels>0"
   ]
  },
  {
   "cell_type": "code",
   "execution_count": null,
   "metadata": {
    "scrolled": false
   },
   "outputs": [],
   "source": [
    "roc_info = {}\n",
    "for k in presel_eff:\n",
    "    if k > 0:\n",
    "        mass = '%d MeV' % k\n",
    "        print(mass)\n",
    "        roc_info[k] = plotROC([a['ParticleNet_disc'], a['EcalVetoGabriel_recon.discValue_']], test_labels, \n",
    "                sample_weight=np.logical_or(test_extra_labels == 0, test_extra_labels == k),\n",
    "                sig_eff=presel_eff[k], bkg_eff=presel_eff[0],\n",
    "                labels=['ParticleNet', 'BDT'], xlim=[1e-6, .01], ylim=[0, 1], logx=True)"
   ]
  },
  {
   "cell_type": "code",
   "execution_count": null,
   "metadata": {},
   "outputs": [],
   "source": [
    "roc_info"
   ]
  },
  {
   "cell_type": "code",
   "execution_count": null,
   "metadata": {},
   "outputs": [],
   "source": [
    "plot_bins = {\n",
    "#     'EcalVetoGabriel_recon.nReadoutHits_':np.linspace(0, 50, 51),\n",
    "#     'EcalVetoGabriel_recon.deepestLayerHit_':np.linspace(0, 35, 36),\n",
    "#     'EcalVetoGabriel_recon.summedDet_':np.linspace(0, 2000, 41),\n",
    "#     'EcalVetoGabriel_recon.summedTightIso_':np.linspace(0, 400, 41),\n",
    "#     'EcalVetoGabriel_recon.maxCellDep_':np.linspace(0, 400, 41),\n",
    "#     'EcalVetoGabriel_recon.showerRMS_':np.linspace(0, 250, 26),\n",
    "#     'EcalVetoGabriel_recon.xStd_':np.linspace(0, 200, 41),\n",
    "#     'EcalVetoGabriel_recon.yStd_':np.linspace(0, 200, 41),\n",
    "#     'EcalVetoGabriel_recon.avgLayerHit_':np.linspace(0, 35, 36),\n",
    "#     'EcalVetoGabriel_recon.stdLayerHit_':np.linspace(0, 20, 21),\n",
    "#     'EcalVetoGabriel_recon.ecalBackEnergy_':np.linspace(0, 200, 41),\n",
    "# #     'EcalVetoGabriel_recon.discValue_':np.linspace(0.9, 1, 51),\n",
    "#     'EcalVetoGabriel_recon.recoilX_':np.linspace(-400, 400, 81),\n",
    "#     'EcalVetoGabriel_recon.recoilY_':np.linspace(-400, 400, 81),\n",
    "\n",
    "    'TargetSPRecoilE_pt':np.linspace(-50, 200, 51),\n",
    "\n",
    "#     'ParticleNet_disc':np.linspace(0, 1, 51),\n",
    "}\n",
    "\n",
    "# plot_bins = {\n",
    "#     'EcalVetoGabriel_recon.ecalLayerEdepReadout_:%d'%i:np.linspace(0, 1000, 51) for i in range(34)\n",
    "# }\n"
   ]
  },
  {
   "cell_type": "code",
   "execution_count": null,
   "metadata": {},
   "outputs": [],
   "source": [
    "colors = ['#636363', '#74c476', '#3182bd', '#f03b20', '#bd0026']\n",
    "colors = None"
   ]
  },
  {
   "cell_type": "code",
   "execution_count": null,
   "metadata": {},
   "outputs": [],
   "source": [
    "def plot_sig_vs_bkg(var_name):\n",
    "    if ':' in var_name:\n",
    "        var, var_idx = var_name.split(':')\n",
    "        var_idx = int(var_idx)\n",
    "    else:\n",
    "        var, var_idx = var_name, None\n",
    "\n",
    "    arrays = []\n",
    "    labels = []\n",
    "    for proc in presel_eff.keys():\n",
    "        pos = test_extra_labels==proc\n",
    "        arr = a[var][pos]\n",
    "        if var_idx:\n",
    "            arr = arr[:, var_idx]\n",
    "        if not isinstance(plot_bins[var_name], int):\n",
    "            arr = np.clip(arr, min(plot_bins[var_name]), max(plot_bins[var_name]))\n",
    "        arrays.append(arr)\n",
    "        labels.append('BKG' if proc==0 else '%d MeV'%proc)\n",
    "    f = plt.figure()\n",
    "    plt.hist(arrays, bins=plot_bins[var_name], label=labels, normed=True, histtype='step', log=True)\n",
    "    plt.legend()\n",
    "    plt.xlabel(var_name)"
   ]
  },
  {
   "cell_type": "code",
   "execution_count": null,
   "metadata": {},
   "outputs": [],
   "source": [
    "# plot_sig_vs_bkg('TargetSPRecoilE_pt')"
   ]
  },
  {
   "cell_type": "code",
   "execution_count": null,
   "metadata": {
    "scrolled": false
   },
   "outputs": [],
   "source": [
    "for var in plot_bins:\n",
    "    print(var)\n",
    "    plot_sig_vs_bkg(var)"
   ]
  },
  {
   "cell_type": "code",
   "execution_count": null,
   "metadata": {},
   "outputs": [],
   "source": []
  },
  {
   "cell_type": "code",
   "execution_count": null,
   "metadata": {},
   "outputs": [],
   "source": []
  },
  {
   "cell_type": "code",
   "execution_count": null,
   "metadata": {},
   "outputs": [],
   "source": [
    "def plot_trend(var_name, proc, eff_levels=None, mistag_levels=[1e-3, 1e-4, 1e-5, 1e-6]):\n",
    "    if ':' in var_name:\n",
    "        var, var_idx = var_name.split(':')\n",
    "        var_idx = int(var_idx)\n",
    "    else:\n",
    "        var, var_idx = var_name, None\n",
    "    if eff_levels is None and mistag_levels is None:\n",
    "        eff_levels = [1e-3, 1e-4, 1e-5, 1e-6] if proc==0 else [0.9, 0.7, 0.5, 0.2]\n",
    "    f, axes = plt.subplots(1, 2, figsize=(12, 5))\n",
    "    f.suptitle('%d MeV'%proc if proc>0 else 'BKG', fontsize=16)\n",
    "    pos0 = test_extra_labels==proc\n",
    "    a_tmp = {k:a[k][pos0] for k in ('ParticleNet_disc', 'EcalVetoGabriel_recon.discValue_', var)}\n",
    "    if var_idx:\n",
    "        a_tmp[var] = a_tmp[var][:, var_idx]\n",
    "    for i, k in enumerate(['ParticleNet_disc', 'EcalVetoGabriel_recon.discValue_']):\n",
    "        arrs = []\n",
    "        labels = []\n",
    "        scores = a_tmp[k]\n",
    "        if mistag_levels is None:\n",
    "            pcts = (1 - np.array(eff_levels)/presel_eff[proc]) * 100.\n",
    "            print('effs=', pcts)\n",
    "            thresholds = [-99] + list(np.percentile(scores, pcts))\n",
    "        else:\n",
    "            thresholds = [-99] + [info[-1] for info in roc_info[1]['ParticleNet' if i==0 else 'BDT']]\n",
    "        print(k, thresholds)\n",
    "        for idx, thres in enumerate(thresholds):\n",
    "            pos = scores>thres\n",
    "#             print(k, thres, pos.sum())\n",
    "            if not isinstance(plot_bins[var_name], int):\n",
    "                arrs.append(np.clip(a_tmp[var][pos], min(plot_bins[var_name]), max(plot_bins[var_name])))\n",
    "            else:\n",
    "                arrs.append(a_tmp[var][pos])\n",
    "            if mistag_levels is None:\n",
    "                labels.append('inclusive' if idx==0 else ('$\\epsilon_{B}$=%.0e'%eff_levels[idx-1] if proc==0 else '$\\epsilon_{S}$=%.1f'%eff_levels[idx-1]))\n",
    "            else:\n",
    "                labels.append('inclusive' if idx==0 else '$\\epsilon_{B}$=%.0e'%mistag_levels[idx-1])\n",
    "\n",
    "        axes[i].hist(arrs, histtype='step', bins=plot_bins[var_name], density=True, log=True, label=labels, color=colors, linewidth=2)\n",
    "        axes[i].set_title('ParticleNet' if i==0 else 'BDT')\n",
    "        axes[i].set_xlabel(var)\n",
    "        axes[i].set_ylim(1e-6, 30)\n",
    "        axes[i].legend(loc='best')"
   ]
  },
  {
   "cell_type": "code",
   "execution_count": null,
   "metadata": {
    "scrolled": false
   },
   "outputs": [],
   "source": [
    "# compare shapes with succesively tighter selections\n",
    "# keep BKG mistag rate the same for all signal points\n",
    "\n",
    "for var in plot_bins:\n",
    "    print(var)\n",
    "    plot_trend(var, proc=0, mistag_levels=None)\n",
    "    plot_trend(var, proc=1, mistag_levels=None)\n",
    "    plot_trend(var, proc=10, mistag_levels=None)\n",
    "    plot_trend(var, proc=100, mistag_levels=None)\n",
    "    plot_trend(var, proc=1000, mistag_levels=None)"
   ]
  },
  {
   "cell_type": "code",
   "execution_count": null,
   "metadata": {
    "scrolled": false
   },
   "outputs": [],
   "source": [
    "# compare shapes with succesively tighter selections\n",
    "# keep SIG efficiency the same for all signal points\n",
    "\n",
    "# for var in plot_bins:\n",
    "#     print(var)\n",
    "#     plot_trend(var, proc=0)\n",
    "#     plot_trend(var, proc=1)\n",
    "#     plot_trend(var, proc=10)\n",
    "#     plot_trend(var, proc=100)\n",
    "#     plot_trend(var, proc=1000)"
   ]
  },
  {
   "cell_type": "code",
   "execution_count": null,
   "metadata": {},
   "outputs": [],
   "source": []
  }
 ],
 "metadata": {
  "kernelspec": {
   "display_name": "Python 3",
   "language": "python",
   "name": "python3"
  },
  "language_info": {
   "codemirror_mode": {
    "name": "ipython",
    "version": 3
   },
   "file_extension": ".py",
   "mimetype": "text/x-python",
   "name": "python",
   "nbconvert_exporter": "python",
   "pygments_lexer": "ipython3",
   "version": "3.7.2"
  }
 },
 "nbformat": 4,
 "nbformat_minor": 2
}
